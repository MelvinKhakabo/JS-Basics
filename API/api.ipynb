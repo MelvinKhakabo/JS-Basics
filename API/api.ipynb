{
 "cells": [
  {
   "cell_type": "markdown",
   "metadata": {},
   "source": [
    "# API Testing using the curl command"
   ]
  },
  {
   "cell_type": "markdown",
   "metadata": {},
   "source": [
    "Here, we test an API using the curl command in the Command Line Interface (CLI) by making HTTP requests to the API's endpoint. Here's how you can use curl for different types of requests:"
   ]
  },
  {
   "cell_type": "markdown",
   "metadata": {},
   "source": [
    "## GET REQUEST\n",
    "Make a basic api call using the get request: curl(api url)"
   ]
  },
  {
   "cell_type": "code",
   "execution_count": null,
   "metadata": {
    "vscode": {
     "languageId": "plaintext"
    }
   },
   "outputs": [],
   "source": [
    "curl https://api.example.com/endpoint"
   ]
  },
  {
   "cell_type": "markdown",
   "metadata": {},
   "source": [
    "## GET Request with Headers\n",
    "Sometimes, you may need to pass headers like Authorization or Content-Type. You can do that with the -H flag"
   ]
  },
  {
   "cell_type": "code",
   "execution_count": null,
   "metadata": {
    "vscode": {
     "languageId": "plaintext"
    }
   },
   "outputs": [],
   "source": [
    "curl -H \"Authorization: Bearer YOUR_API_KEY\" https://api.example.com/endpoint\n"
   ]
  },
  {
   "cell_type": "markdown",
   "metadata": {},
   "source": [
    "## POST Request to send data to an api\n",
    "-X POST specifies the method (POST).\n",
    "-H \"Content-Type: application/json\" sets the request header to indicate you're sending JSON data.\n",
    "-d '{\"key\":\"value\"}' is the data you're sending in the request body."
   ]
  },
  {
   "cell_type": "code",
   "execution_count": null,
   "metadata": {
    "vscode": {
     "languageId": "plaintext"
    }
   },
   "outputs": [],
   "source": [
    "curl -X POST -H \"Content-Type: application/json\" -d '{\"key\":\"value\"}' https://api.example.com/endpoint\n"
   ]
  }
 ],
 "metadata": {
  "language_info": {
   "name": "python"
  }
 },
 "nbformat": 4,
 "nbformat_minor": 2
}
